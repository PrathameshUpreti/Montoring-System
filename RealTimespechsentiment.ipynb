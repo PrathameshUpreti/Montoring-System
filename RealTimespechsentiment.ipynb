{
 "cells": [
  {
   "cell_type": "markdown",
   "metadata": {},
   "source": [
    "## Real Time Speech Sentiment Detection\n",
    "\n",
    "\n",
    "using NLP we are going to create this model using speech recogniztion libaray and text processing such as TextBlob"
   ]
  },
  {
   "cell_type": "markdown",
   "metadata": {},
   "source": [
    "Import the Libaries"
   ]
  },
  {
   "cell_type": "code",
   "execution_count": 3,
   "metadata": {},
   "outputs": [],
   "source": [
    "from textblob import TextBlob\n",
    "import nltk\n",
    "import speech_recognition  as sr\n",
    "from nltk.corpus import stopwords\n",
    "from nltk.tokenize import word_tokenize\n",
    "import pyaudio\n"
   ]
  },
  {
   "cell_type": "code",
   "execution_count": null,
   "metadata": {},
   "outputs": [],
   "source": []
  },
  {
   "cell_type": "code",
   "execution_count": 4,
   "metadata": {},
   "outputs": [
    {
     "name": "stderr",
     "output_type": "stream",
     "text": [
      "[nltk_data] Downloading package punkt to C:\\Users\\Prathamesh\n",
      "[nltk_data]     Upreti\\AppData\\Roaming\\nltk_data...\n",
      "[nltk_data]   Package punkt is already up-to-date!\n",
      "[nltk_data] Downloading package stopwords to C:\\Users\\Prathamesh\n",
      "[nltk_data]     Upreti\\AppData\\Roaming\\nltk_data...\n",
      "[nltk_data]   Package stopwords is already up-to-date!\n"
     ]
    },
    {
     "data": {
      "text/plain": [
       "True"
      ]
     },
     "execution_count": 4,
     "metadata": {},
     "output_type": "execute_result"
    }
   ],
   "source": [
    "nltk.download('punkt')\n",
    "nltk.download('stopwords')"
   ]
  },
  {
   "cell_type": "markdown",
   "metadata": {},
   "source": [
    "Initialize the Speech Recognition"
   ]
  },
  {
   "cell_type": "code",
   "execution_count": 5,
   "metadata": {},
   "outputs": [],
   "source": [
    "recognizer=sr.Recognizer()"
   ]
  },
  {
   "cell_type": "markdown",
   "metadata": {},
   "source": [
    "Use Textblob for Sentiment analyses"
   ]
  },
  {
   "cell_type": "code",
   "execution_count": 6,
   "metadata": {},
   "outputs": [],
   "source": [
    "def analyses_text(Text):\n",
    "    blob=TextBlob(Text)\n",
    "    sentiment=blob.sentiment.polarity\n",
    "    sentiment_sub=blob.sentiment.subjectivity\n",
    "    print(sentiment_sub)\n",
    "\n",
    "    stop_words=set(stopwords.words('english'))\n",
    "    word_tokens = word_tokenize(Text.lower())\n",
    "    keywords = [word for word in word_tokens if word.isalpha() and word not in stop_words]\n",
    "\n",
    "    print(\"\\nText:\",Text)\n",
    "    print(\"Sentiment Polarity:\", sentiment)\n",
    "    print(\"Keywords:\", keywords)\n",
    "\n",
    "    if sentiment > 0.5:\n",
    "        print(\"Feedback: The lecture is very positive and engaging!\")\n",
    "    elif sentiment < 0:\n",
    "        print(\"Feedback: The tone seems negative; consider being more encouraging.\")\n",
    "    else:\n",
    "        print(\"Feedback: The tone is neutral; try adding some enthusiasm.\")\n"
   ]
  },
  {
   "cell_type": "markdown",
   "metadata": {},
   "source": [
    "Use Speech Recogniztion to listen the audio and convert to text --> create a function"
   ]
  },
  {
   "cell_type": "code",
   "execution_count": 7,
   "metadata": {},
   "outputs": [],
   "source": [
    "def listen__convert():\n",
    "   with sr.Microphone() as source:\n",
    "      print(\"Please wait.... Adjusting the ambient Noise\")\n",
    "      recognizer.adjust_for_ambient_noise(source,duration=2)\n",
    "      print(\"......Now Speak\")\n",
    "\n",
    "      audio =recognizer.listen(source)\n",
    "\n",
    "\n",
    "      Text=recognizer.recognize_google(audio)\n",
    "      Text=Text.lower()\n",
    "      analyses_text(Text)\n",
    "\n",
    "\n",
    "\n"
   ]
  },
  {
   "cell_type": "code",
   "execution_count": 8,
   "metadata": {},
   "outputs": [],
   "source": [
    "def listen__convert():\n",
    "   with sr.Microphone() as source:\n",
    "      print(\"Please wait.... Adjusting the ambient Noise\")\n",
    "      recognizer.adjust_for_ambient_noise(source,duration=2)\n",
    "      print(\"......Now Speak\")\n",
    "\n",
    "      audio =recognizer.listen(source)\n",
    "\n",
    "\n",
    "      Text=recognizer.recognize_google(audio)\n",
    "      Text=Text.lower()\n",
    "      analyses_text(Text)\n",
    "\n",
    "\n",
    "\n"
   ]
  },
  {
   "cell_type": "code",
   "execution_count": 9,
   "metadata": {},
   "outputs": [
    {
     "name": "stdout",
     "output_type": "stream",
     "text": [
      "Please wait.... Adjusting the ambient Noise\n",
      "......Now Speak\n",
      "0.0\n",
      "\n",
      "Text: hello\n",
      "Sentiment Polarity: 0.0\n",
      "Keywords: ['hello']\n",
      "Feedback: The tone is neutral; try adding some enthusiasm.\n"
     ]
    }
   ],
   "source": [
    "listen__convert()"
   ]
  }
 ],
 "metadata": {
  "kernelspec": {
   "display_name": "base",
   "language": "python",
   "name": "python3"
  },
  "language_info": {
   "codemirror_mode": {
    "name": "ipython",
    "version": 3
   },
   "file_extension": ".py",
   "mimetype": "text/x-python",
   "name": "python",
   "nbconvert_exporter": "python",
   "pygments_lexer": "ipython3",
   "version": "3.12.4"
  }
 },
 "nbformat": 4,
 "nbformat_minor": 2
}

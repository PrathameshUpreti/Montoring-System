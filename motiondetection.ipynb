{
 "cells": [
  {
   "cell_type": "markdown",
   "metadata": {},
   "source": []
  },
  {
   "cell_type": "markdown",
   "metadata": {},
   "source": []
  },
  {
   "cell_type": "markdown",
   "metadata": {},
   "source": [
    "## import all the libaries--"
   ]
  },
  {
   "cell_type": "code",
   "execution_count": 1,
   "metadata": {},
   "outputs": [],
   "source": [
    "import cv2\n",
    "import mediapipe as mp\n",
    "import numpy as np\n",
    "import pickle\n"
   ]
  },
  {
   "cell_type": "markdown",
   "metadata": {},
   "source": [
    "## Initailize the mediapipe-pose and drawing utilites"
   ]
  },
  {
   "cell_type": "code",
   "execution_count": 2,
   "metadata": {},
   "outputs": [],
   "source": [
    "mp_pose=mp.solutions.pose\n",
    "mp_drawing=mp.solutions.drawing_utils"
   ]
  },
  {
   "cell_type": "markdown",
   "metadata": {},
   "source": [
    "## Calculate the angles using numpy that person is standing or sitting\n",
    "\n"
   ]
  },
  {
   "cell_type": "code",
   "execution_count": 3,
   "metadata": {},
   "outputs": [],
   "source": [
    "def Calc_angle(a,b,c):\n",
    "\n",
    "    #Covert the ppoint to the vector\n",
    "    a=np.array(a)             # a=[x,y]\n",
    "    b=np.array(b)\n",
    "    c=np.array(c)\n",
    "    #creating vector ba & bc\n",
    "    ba=a-b\n",
    "    bc=c-b\n",
    "\n",
    "    #creating dot vector and the magnitubde of ba and bc\n",
    "    \n",
    "    dot_product=np.dot(ba,bc)\n",
    "    mag_ba=np.linalg.norm(ba)\n",
    "    mag_bc=np.linalg.norm(bc)\n",
    "\n",
    "\n",
    "    #using formula\n",
    "    #accross---->return the inverse cosine and return the value in radian\n",
    "    #degrees---->convert the radian value to the degree\n",
    "\n",
    "\n",
    "    angle=np.arccos(dot_product/(mag_ba * mag_bc))\n",
    "    angle=np.degrees(angle)\n",
    "    return angle\n",
    "    \n"
   ]
  },
  {
   "cell_type": "markdown",
   "metadata": {},
   "source": [
    "## Create a function to detect the person is sitting or standing"
   ]
  },
  {
   "cell_type": "code",
   "execution_count": 4,
   "metadata": {},
   "outputs": [],
   "source": [
    "def detect_person(landmarks):\n",
    "\n",
    "    # we give landmarks as the input \n",
    "\n",
    "    left_hip = [landmarks[mp_pose.PoseLandmark.LEFT_HIP].x, landmarks[mp_pose.PoseLandmark.LEFT_HIP].y]                            ## just like a=[x,y]\n",
    "    left_knee = [landmarks[mp_pose.PoseLandmark.LEFT_KNEE].x, landmarks[mp_pose.PoseLandmark.LEFT_KNEE].y]\n",
    "    left_ankle = [landmarks[mp_pose.PoseLandmark.LEFT_ANKLE].x, landmarks[mp_pose.PoseLandmark.LEFT_ANKLE].y]\n",
    "    \n",
    "    right_hip = [landmarks[mp_pose.PoseLandmark.RIGHT_HIP].x, landmarks[mp_pose.PoseLandmark.RIGHT_HIP].y]\n",
    "    right_knee = [landmarks[mp_pose.PoseLandmark.RIGHT_KNEE].x, landmarks[mp_pose.PoseLandmark.RIGHT_KNEE].y]\n",
    "    right_ankle = [landmarks[mp_pose.PoseLandmark.RIGHT_ANKLE].x, landmarks[mp_pose.PoseLandmark.RIGHT_ANKLE].y]\n",
    "\n",
    "\n",
    "\n",
    "     #calculate the angle using the calculating function defined above \n",
    "    left_knee_angle = Calc_angle(left_hip, left_knee, left_ankle)                  # since left knee is the vertex\n",
    "    right_knee_angle = Calc_angle(right_hip, right_knee, right_ankle)\n",
    "\n",
    "\n",
    "    standing = left_hip[1] < left_knee[1] and right_hip[1] < right_knee[1]\n",
    "\n",
    "\n",
    "    if left_knee_angle > 160 and right_knee_angle > 160 and standing:\n",
    "        return \"Standing\"\n",
    "    else:\n",
    "        return \"Sitting\""
   ]
  },
  {
   "cell_type": "markdown",
   "metadata": {},
   "source": [
    "## Create a function to detect the person if standing so walking or not\n"
   ]
  },
  {
   "cell_type": "code",
   "execution_count": 5,
   "metadata": {},
   "outputs": [],
   "source": [
    "def detect_walking(landmarks,previos_landmark):\n",
    "    left_foot=[landmarks[mp_pose.PoseLandmark.LEFT_ANKLE].x, landmarks[mp_pose.PoseLandmark.LEFT_ANKLE].y]\n",
    "    right_foot=[landmarks[mp_pose.PoseLandmark.RIGHT_ANKLE].x, landmarks[mp_pose.PoseLandmark.RIGHT_ANKLE].y]\n",
    "\n",
    "    prev_left_foot=[previos_landmark[mp_pose.PoseLandmark.LEFT_ANKLE].x, landmarks[mp_pose.PoseLandmark.LEFT_ANKLE].y]\n",
    "    prev_right_foot=[previos_landmark[mp_pose.PoseLandmark.RIGHT_ANKLE].x, landmarks[mp_pose.PoseLandmark.RIGHT_ANKLE].y]\n",
    "\n",
    "    left_movement=np.linalg.norm(np.array(left_foot) - np.array(prev_left_foot))\n",
    "    right_movement=np.linalg.norm(np.array(right_foot) - np.array(prev_right_foot))\n",
    "\n",
    "    movement_threshold = 0.5\n",
    "\n",
    "    if left_movement > movement_threshold or right_movement > movement_threshold:\n",
    "        return \"Walking\"\n",
    "    else:\n",
    "        return \"Standing Still\"\n",
    "\n"
   ]
  },
  {
   "cell_type": "markdown",
   "metadata": {},
   "source": [
    "## Create a function which will combiine all the function and tell weather it is standing ,walking or sitting."
   ]
  },
  {
   "cell_type": "code",
   "execution_count": 6,
   "metadata": {},
   "outputs": [],
   "source": [
    "def detect_all(landmarks,previos_landmark=None):\n",
    "     posture = detect_person(landmarks)\n",
    "\n",
    "    # If the person is standing, check for walking\n",
    "     if posture == \"Standing\" and previos_landmark is not None:\n",
    "        movement = detect_walking(landmarks, previos_landmark)\n",
    "        return movement\n",
    "     else:\n",
    "        return posture"
   ]
  },
  {
   "cell_type": "markdown",
   "metadata": {},
   "source": [
    "## Load it to the pickle file to use in the in the fronted file"
   ]
  },
  {
   "cell_type": "markdown",
   "metadata": {},
   "source": [
    "with open(\"detect_all.pkl\", \"wb\") as file:\n",
    "    pickle.dump(detect_all, file)\n",
    "print('Pickle dumped')"
   ]
  },
  {
   "cell_type": "markdown",
   "metadata": {},
   "source": [
    "## use cv2 with mediapipe ##\n",
    "\n",
    "\n",
    "use cv2 to open the camera or any external camera you want to use ,and mediapipe will tell and create the landmark of the object such as left_knee nose etc.\n",
    "nose->landmark-->0\n",
    "total 33 landmark"
   ]
  },
  {
   "cell_type": "code",
   "execution_count": 7,
   "metadata": {},
   "outputs": [],
   "source": [
    "mp_pose=mp.solutions.pose\n",
    "video_path = '2791669-uhd_2160_3840_25fps.mp4'\n",
    "cap = cv2.VideoCapture(video_path)\n",
    "# cap=cv2.VideoCapture(0)\n",
    "\n",
    "\n",
    "with mp_pose.Pose(min_detection_confidence=0.5, min_tracking_confidence=0.5) as pose:\n",
    "    while cap.isOpened():\n",
    "        ret,frame=cap.read()\n",
    "\n",
    "\n",
    "        image=cv2.cvtColor(frame,cv2.COLOR_BGR2RGB)\n",
    "        image.flags.writeable=False\n",
    "\n",
    "        result=pose.process(image)\n",
    "\n",
    "        image.flags.writeable=True\n",
    "        image=cv2.cvtColor(frame,cv2.COLOR_RGB2BGR)\n",
    "\n",
    "\n",
    "        if result.pose_landmarks:\n",
    "              posture=detect_all(result.pose_landmarks.landmark,previos_landmark)\n",
    "              previos_landmark=result.pose_landmarks.landmark\n",
    "              cv2.putText(image, posture, (50, 50), cv2.FONT_HERSHEY_SIMPLEX, 1, (0, 255, 0), 2, cv2.LINE_AA)\n",
    "\n",
    "\n",
    "\n",
    "\n",
    "        mp_drawing.draw_landmarks(image,\n",
    "                                 result.pose_landmarks,\n",
    "                                 mp_pose.POSE_CONNECTIONS,\n",
    "                                 mp_drawing.DrawingSpec(color=(255,255,0),thickness=2,circle_radius=2),\n",
    "                                 mp_drawing.DrawingSpec(color=(0,0,255),thickness=2,circle_radius=2))\n",
    "        \n",
    "        \n",
    "    \n",
    "        cv2.imshow('Detection',image)\n",
    "        if cv2.waitKey(10) & 0xFF == ord('q'):\n",
    "            break\n",
    "    cap.release()\n",
    "    cv2.destroyAllWindows()"
   ]
  }
 ],
 "metadata": {
  "kernelspec": {
   "display_name": "base",
   "language": "python",
   "name": "python3"
  },
  "language_info": {
   "codemirror_mode": {
    "name": "ipython",
    "version": 3
   },
   "file_extension": ".py",
   "mimetype": "text/x-python",
   "name": "python",
   "nbconvert_exporter": "python",
   "pygments_lexer": "ipython3",
   "version": "3.12.4"
  }
 },
 "nbformat": 4,
 "nbformat_minor": 2
}
